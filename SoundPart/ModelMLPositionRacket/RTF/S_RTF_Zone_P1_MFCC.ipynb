{
 "cells": [
  {
   "cell_type": "markdown",
   "metadata": {},
   "source": [
    "# RTF Model for predicting zone with MFCC"
   ]
  },
  {
   "cell_type": "markdown",
   "metadata": {},
   "source": [
    "Les MFCC sont des coefficients qui représentent le contenu fréquentiel d’un son, mais d’une manière qui imite la perception humaine. Ils traduisent ce que l’oreille humaine perçoit comme étant important dans un son.\n",
    "\n",
    "- réduisent une information spectrale complexe (spectre FFT) à un petit vecteur de valeurs pertinentes.\n",
    "- robustes au bruit et compacts (souvent 12 ou 13 coefficients suffisent)."
   ]
  },
  {
   "cell_type": "markdown",
   "metadata": {},
   "source": [
    "Import"
   ]
  },
  {
   "cell_type": "code",
   "execution_count": 10,
   "metadata": {},
   "outputs": [],
   "source": [
    "import os\n",
    "import glob\n",
    "import pandas as pd\n",
    "from sklearn.preprocessing import LabelEncoder\n",
    "from scipy.io import wavfile\n",
    "from scipy.fft import fft\n",
    "import matplotlib.pyplot as plt\n",
    "import numpy as np\n",
    "from sklearn.model_selection import train_test_split\n",
    "from sklearn.metrics import accuracy_score\n",
    "from sklearn.ensemble import RandomForestClassifier\n",
    "from scipy.fftpack import dct"
   ]
  },
  {
   "cell_type": "markdown",
   "metadata": {},
   "source": [
    "Readwav function"
   ]
  },
  {
   "cell_type": "code",
   "execution_count": 11,
   "metadata": {},
   "outputs": [],
   "source": [
    "def readWavFolder(folderPath):\n",
    "    fileFolder=[]\n",
    "    sampleRateFolder=[]\n",
    "\n",
    "    files = os.listdir(folderPath)\n",
    "    for filename in glob.glob(os.path.join(folderPath, '*.wav')):\n",
    "        samplerate, data = wavfile.read(filename)\n",
    "        fileFolder.append(data)\n",
    "        sampleRateFolder.append(samplerate)\n",
    "    return sampleRateFolder, fileFolder, files\n",
    "    \n",
    "samplerateVect,testWavFileVect,filename = readWavFolder(\"../../Data_Clean/new_RB\")\n"
   ]
  },
  {
   "cell_type": "markdown",
   "metadata": {},
   "source": [
    "Spectrum"
   ]
  },
  {
   "cell_type": "code",
   "execution_count": 12,
   "metadata": {},
   "outputs": [],
   "source": [
    "def spectrumFromWav(wavFile,sampleRate,chanel):\n",
    "    spectrum = fft(wavFile[:, chanel])  # Compute the FFT for the first channel\n",
    "    return abs(spectrum[:len(spectrum) // 2])  # Return the magnitude of the spectrum (half due to symmetry)\n",
    "\n",
    "\n",
    "spectrumVect=[]\n",
    "for i in range(len(testWavFileVect)):\n",
    "    spectrum = spectrumFromWav(testWavFileVect[i], samplerateVect[i],0)\n",
    "    freqs = np.fft.fftfreq(len(spectrum) * 2, d=1/samplerateVect[i])[:len(spectrum)]\n",
    "    filtered_spectrum = spectrum[(freqs >= 150) & (freqs <= 1000)]\n",
    "    spectrumVect.append(filtered_spectrum)"
   ]
  },
  {
   "cell_type": "markdown",
   "metadata": {},
   "source": [
    "Extract each peak and store"
   ]
  },
  {
   "cell_type": "code",
   "execution_count": 13,
   "metadata": {},
   "outputs": [
    {
     "name": "stdout",
     "output_type": "stream",
     "text": [
      "[[ 5.64521253e+01 -7.21524304e-01  3.88531590e+00 ...  2.79669999e+00\n",
      "   2.58574356e+00  1.67550579e+00]\n",
      " [ 5.71527794e+01  1.77248239e-01  4.30096268e+00 ...  2.69131543e+00\n",
      "   2.31459621e+00  2.08747072e+00]\n",
      " [ 5.69293317e+01 -5.87369181e-02  4.22449737e+00 ...  3.23037067e+00\n",
      "   3.10002437e+00  2.22914470e+00]\n",
      " ...\n",
      " [ 6.83085125e+01  6.34760154e+00 -1.87120682e-01 ...  1.99815566e+00\n",
      "   1.92868507e+00  1.07754660e+00]\n",
      " [ 5.78575427e+01 -3.18546488e-01  3.20406110e+00 ...  2.07595788e+00\n",
      "   2.02895466e+00  2.19739496e+00]\n",
      " [ 5.76358941e+01 -2.76905681e-01  3.79439097e+00 ...  2.46331156e+00\n",
      "   2.43247292e+00  2.38692214e+00]]\n"
     ]
    }
   ],
   "source": [
    "# Fonction pour lire les fichiers d'un dossier donné\n",
    "def lire_fichiers_dossier(dossier):\n",
    "    if os.path.exists(dossier):  # Vérifier si le dossier existe\n",
    "        return readWavFolder(dossier)\n",
    "    else:\n",
    "        print(f\"Dossier introuvable : {dossier}\")\n",
    "        return [], [], []  # Retourne des listes vides si le dossier n'existe pas\n",
    "    \n",
    "    \n",
    "def compute_mfcc(wav_file, sample_rate, n_mfcc=13, n_fft=2048, hop_length=512, n_mels=40):\n",
    "    # Step 1: Compute the power spectrum\n",
    "    window = np.hanning(n_fft)\n",
    "    frames = [\n",
    "        wav_file[i:i + n_fft] * window\n",
    "        for i in range(0, len(wav_file) - n_fft, hop_length)\n",
    "    ]\n",
    "    power_spectrum = np.array([np.abs(np.fft.rfft(frame))**2 for frame in frames])\n",
    "\n",
    "    # Step 2: Compute the Mel filterbank\n",
    "    mel_filters = np.zeros((n_mels, n_fft // 2 + 1))\n",
    "    mel_min = 0\n",
    "    mel_max = 2595 * np.log10(1 + (sample_rate / 2) / 700)\n",
    "    mel_points = np.linspace(mel_min, mel_max, n_mels + 2)\n",
    "    hz_points = 700 * (10**(mel_points / 2595) - 1)\n",
    "    bin_points = np.floor((n_fft + 1) * hz_points / sample_rate).astype(int)\n",
    "\n",
    "    for i in range(1, n_mels + 1):\n",
    "        mel_filters[i - 1, bin_points[i - 1]:bin_points[i]] = (\n",
    "            np.linspace(0, 1, bin_points[i] - bin_points[i - 1])\n",
    "        )\n",
    "        mel_filters[i - 1, bin_points[i]:bin_points[i + 1]] = (\n",
    "            np.linspace(1, 0, bin_points[i + 1] - bin_points[i])\n",
    "        )\n",
    "\n",
    "    # Step 3: Apply the Mel filterbank to the power spectrum\n",
    "    mel_spectrum = np.dot(power_spectrum, mel_filters.T)\n",
    "\n",
    "    # Step 4: Take the logarithm of the Mel spectrum\n",
    "    log_mel_spectrum = np.log(mel_spectrum + 1e-10)\n",
    "\n",
    "    # Step 5: Compute the DCT to get MFCCs\n",
    "    mfccs = dct(log_mel_spectrum, type=2, axis=1, norm='ortho')[:, :n_mfcc]\n",
    "\n",
    "    return mfccs\n",
    "\n",
    "# Example usage\n",
    "mfccs = compute_mfcc(testWavFileVect[0][:, 0], samplerateVect[0])\n",
    "print(mfccs)\n"
   ]
  },
  {
   "cell_type": "markdown",
   "metadata": {},
   "source": [
    "## Main"
   ]
  },
  {
   "cell_type": "code",
   "execution_count": 14,
   "metadata": {},
   "outputs": [
    {
     "name": "stdout",
     "output_type": "stream",
     "text": [
      "Chanel 0\n",
      "Chanel 1\n",
      "Chanel 0\n",
      "Chanel 1\n",
      "Chanel 0\n",
      "Chanel 1\n",
      "Results have been saved to 'RTF_ZONE_P1_MFCC.xlsx'.\n"
     ]
    }
   ],
   "source": [
    "# Liste des types de raquettes et zones\n",
    "racket_names = {\"RB\":1, \"RO\":2, \"RR\":3, \"RV\":4}\n",
    "zone_names = {\"C\":1, \"S\":2, \"V\":3}\n",
    "\n",
    "mfcc_range = [13, 20, 30]\n",
    "n_fft_range = [256, 512]\n",
    "hop_length_range = [128, 256]\n",
    "n_mels_range = range(20, 21)\n",
    "\n",
    "# Liste pour stocker les résultats\n",
    "results = []\n",
    "\n",
    "for n_mfcc in mfcc_range:\n",
    "    \n",
    "    for chanel in range(1, 3):\n",
    "        if chanel == 1:\n",
    "            c = 0\n",
    "        else:\n",
    "            c = 1\n",
    "        print(\"Chanel\", c)\n",
    "\n",
    "        X_Amplitude = []\n",
    "        Y_Label = []\n",
    "            \n",
    "        # Lire les fichiers des raquettes\n",
    "        for raquetteType in racket_names:\n",
    "            dossier_raquette = f\"../../Data_Clean/new_{raquetteType}\"\n",
    "            samplerateVect, WavFileVect, filesName = lire_fichiers_dossier(dossier_raquette)\n",
    "\n",
    "            spectrumVect = []\n",
    "\n",
    "            # Pour chaque fichier wav on extrait son spectre et on le filtre entre 150 et 1000hz et on prend les n meilleurs peaks\n",
    "            for i in range(len(WavFileVect)):\n",
    "\n",
    "                # On extrait la zone\n",
    "                if \"C\" in filesName[i]:\n",
    "                    zone = 'C'\n",
    "                if 'S' in filesName[i]:\n",
    "                    zone = 'S'\n",
    "                if 'V' in filesName[i]:\n",
    "                    zone = 'V'\n",
    "\n",
    "                spectrum = spectrumFromWav(WavFileVect[i], samplerateVect[i], c)\n",
    "                freqs = np.fft.fftfreq(len(spectrum) * 2, d=1 / samplerateVect[i])[:len(spectrum)]\n",
    "                filtered_spectrum = spectrum[(freqs >= 150) & (freqs <= 1000)]\n",
    "                spectrumVect.append(filtered_spectrum)  # Ajout dans spectrumVect\n",
    "\n",
    "                for n_fft in n_fft_range:\n",
    "                    for hop_length in hop_length_range:\n",
    "                        for n_mels in n_mels_range:\n",
    "                            mfccs = compute_mfcc(WavFileVect[i][:, 0], samplerateVect[i], n_mfcc=n_mfcc, n_fft=n_fft, hop_length=hop_length, n_mels=n_mels)\n",
    "\n",
    "                            min_mfcc_length = min(mfcc.shape[0] for mfcc in mfccs)\n",
    "                            mfccs = mfccs[:min_mfcc_length]\n",
    "\n",
    "                            X_Amplitude.append(mfccs)\n",
    "                            Y_Label.append(zone)\n",
    "\n",
    "        # Encode string labels into integers\n",
    "        label_encoder = LabelEncoder()\n",
    "        y = label_encoder.fit_transform(Y_Label)\n",
    "\n",
    "        # Diviser les données en ensembles d'entraînement et de test\n",
    "        X_train, X_test, y_train, y_test = train_test_split(X_Amplitude, y, test_size=0.2, random_state=42, shuffle=True)\n",
    "        X_train = np.array(X_train)\n",
    "        X_test = np.array(X_test)\n",
    "\n",
    "        X_train = X_train.reshape(X_train.shape[0], -1)  # Flatten if necessary\n",
    "        X_test = X_test.reshape(X_test.shape[0], -1)    # Flatten if necessary6\n",
    "\n",
    "        # Paramètres de l'algorithme Random Forest\n",
    "        n_estimators_range = range(10, 101, 10)  # Nombre d'arbres entre 10 et 100\n",
    "        max_depth_range = [None, 10, 20, 30, 40]  # Profondeurs différentes\n",
    "        min_samples_split_range = [2, 5, 10]  # Nombre minimum pour diviser un nœud\n",
    "        min_samples_leaf_range = [1, 2, 4]  # Nombre minimum d'échantillons dans une feuille\n",
    "        max_features_range = ['sqrt', 'log2', None]  # Nombre de features par arbre\n",
    "\n",
    "        # Tester toutes les combinaisons d'hyperparamètres\n",
    "        for n_estimators in n_estimators_range:\n",
    "            for max_depth in max_depth_range:\n",
    "                for min_samples_split in min_samples_split_range:\n",
    "                    # Créer et entraîner le modèle Random Forest\n",
    "                    rf = RandomForestClassifier(n_estimators=n_estimators, max_depth=max_depth,\n",
    "                                                min_samples_split=min_samples_split, random_state=42)\n",
    "                    rf.fit(X_train, y_train)\n",
    "\n",
    "                    # Évaluer sur l'ensemble de test\n",
    "                    y_pred = rf.predict(X_test)\n",
    "                    accuracy_test = accuracy_score(y_test, y_pred)\n",
    "\n",
    "                    # Évaluer sur l'ensemble d'entraînement\n",
    "                    y_train_pred = rf.predict(X_train)\n",
    "                    accuracy_train = accuracy_score(y_train, y_train_pred)\n",
    "\n",
    "                    # Switch case pour le canal\n",
    "                    if c == 0:\n",
    "                        channel_name = \"Left\"\n",
    "                    elif c == 1:\n",
    "                        channel_name = \"Right\"\n",
    "\n",
    "                    # Ajouter le nom du canal aux résultats\n",
    "                    results.append({\n",
    "                        'Chanel_Name': channel_name,\n",
    "                        'n_mfcc': n_mfcc,\n",
    "                        'n_fft': n_fft,\n",
    "                        'hop_length': hop_length,\n",
    "                        'n_mels': n_mels,\n",
    "                        'n_estimators': n_estimators,\n",
    "                        'max_depth': max_depth,\n",
    "                        'min_samples_split': min_samples_split,\n",
    "                        'accuracy_train': accuracy_train,\n",
    "                        'accuracy_test': accuracy_test\n",
    "                    })\n",
    "\n",
    "# Convertir les résultats en DataFrame\n",
    "results_df = pd.DataFrame(results)\n",
    "\n",
    "# Enregistrer les résultats dans un fichier Excel\n",
    "results_df.to_excel(\"RTF_ZONE_P1_MFCC.xlsx\", index=False)\n",
    "\n",
    "print(\"Results have been saved to 'RTF_ZONE_P1_MFCC.xlsx'.\")"
   ]
  }
 ],
 "metadata": {
  "kernelspec": {
   "display_name": "base",
   "language": "python",
   "name": "python3"
  },
  "language_info": {
   "codemirror_mode": {
    "name": "ipython",
    "version": 3
   },
   "file_extension": ".py",
   "mimetype": "text/x-python",
   "name": "python",
   "nbconvert_exporter": "python",
   "pygments_lexer": "ipython3",
   "version": "3.12.4"
  }
 },
 "nbformat": 4,
 "nbformat_minor": 2
}
